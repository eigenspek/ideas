{
 "metadata": {
  "celltoolbar": "Raw Cell Format",
  "name": "",
  "signature": "sha256:591f6da5863f6eb850ccacf178f3b799528a673e4165fc6482602859d9c8c553"
 },
 "nbformat": 3,
 "nbformat_minor": 0,
 "worksheets": [
  {
   "cells": [
    {
     "cell_type": "heading",
     "level": 1,
     "metadata": {},
     "source": [
      "CSV to DataFrame"
     ]
    },
    {
     "cell_type": "code",
     "collapsed": false,
     "input": [
      "import numpy as np\n",
      "import pandas as pd\n",
      "import matplotlib.pyplot as plt\n",
      "import seaborn as sns\n",
      "%matplotlib inline\n",
      "\n",
      "data_train = pd.read_csv('~/Desktop/Programmes/python/titanic/titanic_data/train.csv')\n",
      "data_test = pd.read_csv('~/Desktop/Programmes/python/titanic/titanic_data/test.csv')\n",
      "\n",
      "data_train.sample(5)"
     ],
     "language": "python",
     "metadata": {},
     "outputs": [
      {
       "output_type": "stream",
       "stream": "stderr",
       "text": [
        "/home/c3k4/.local/lib/python2.7/site-packages/pandas/core/computation/__init__.py:18: UserWarning: The installed version of numexpr 2.4.3 is not supported in pandas and will be not be used\n",
        "The minimum supported version is 2.4.6\n",
        "\n",
        "  ver=ver, min_ver=_MIN_NUMEXPR_VERSION), UserWarning)\n",
        "/home/c3k4/.local/lib/python2.7/site-packages/matplotlib/__init__.py:913: UserWarning: axes.color_cycle is deprecated and replaced with axes.prop_cycle; please use the latter.\n",
        "  warnings.warn(self.msg_depr % (key, alt_key))\n"
       ]
      },
      {
       "html": [
        "<div style=\"max-width:1500px;overflow:auto;\">\n",
        "<style>\n",
        "    .dataframe thead tr:only-child th {\n",
        "        text-align: right;\n",
        "    }\n",
        "\n",
        "    .dataframe thead th {\n",
        "        text-align: left;\n",
        "    }\n",
        "\n",
        "    .dataframe tbody tr th {\n",
        "        vertical-align: top;\n",
        "    }\n",
        "</style>\n",
        "<table border=\"1\" class=\"dataframe\">\n",
        "  <thead>\n",
        "    <tr style=\"text-align: right;\">\n",
        "      <th></th>\n",
        "      <th>PassengerId</th>\n",
        "      <th>Survived</th>\n",
        "      <th>Pclass</th>\n",
        "      <th>Name</th>\n",
        "      <th>Sex</th>\n",
        "      <th>Age</th>\n",
        "      <th>SibSp</th>\n",
        "      <th>Parch</th>\n",
        "      <th>Ticket</th>\n",
        "      <th>Fare</th>\n",
        "      <th>Cabin</th>\n",
        "      <th>Embarked</th>\n",
        "    </tr>\n",
        "  </thead>\n",
        "  <tbody>\n",
        "    <tr>\n",
        "      <th>693</th>\n",
        "      <td>694</td>\n",
        "      <td>0</td>\n",
        "      <td>3</td>\n",
        "      <td>Saad, Mr. Khalil</td>\n",
        "      <td>male</td>\n",
        "      <td>25.0</td>\n",
        "      <td>0</td>\n",
        "      <td>0</td>\n",
        "      <td>2672</td>\n",
        "      <td>7.2250</td>\n",
        "      <td>NaN</td>\n",
        "      <td>C</td>\n",
        "    </tr>\n",
        "    <tr>\n",
        "      <th>157</th>\n",
        "      <td>158</td>\n",
        "      <td>0</td>\n",
        "      <td>3</td>\n",
        "      <td>Corn, Mr. Harry</td>\n",
        "      <td>male</td>\n",
        "      <td>30.0</td>\n",
        "      <td>0</td>\n",
        "      <td>0</td>\n",
        "      <td>SOTON/OQ 392090</td>\n",
        "      <td>8.0500</td>\n",
        "      <td>NaN</td>\n",
        "      <td>S</td>\n",
        "    </tr>\n",
        "    <tr>\n",
        "      <th>156</th>\n",
        "      <td>157</td>\n",
        "      <td>1</td>\n",
        "      <td>3</td>\n",
        "      <td>Gilnagh, Miss. Katherine \"Katie\"</td>\n",
        "      <td>female</td>\n",
        "      <td>16.0</td>\n",
        "      <td>0</td>\n",
        "      <td>0</td>\n",
        "      <td>35851</td>\n",
        "      <td>7.7333</td>\n",
        "      <td>NaN</td>\n",
        "      <td>Q</td>\n",
        "    </tr>\n",
        "    <tr>\n",
        "      <th>547</th>\n",
        "      <td>548</td>\n",
        "      <td>1</td>\n",
        "      <td>2</td>\n",
        "      <td>Padro y Manent, Mr. Julian</td>\n",
        "      <td>male</td>\n",
        "      <td>NaN</td>\n",
        "      <td>0</td>\n",
        "      <td>0</td>\n",
        "      <td>SC/PARIS 2146</td>\n",
        "      <td>13.8625</td>\n",
        "      <td>NaN</td>\n",
        "      <td>C</td>\n",
        "    </tr>\n",
        "    <tr>\n",
        "      <th>279</th>\n",
        "      <td>280</td>\n",
        "      <td>1</td>\n",
        "      <td>3</td>\n",
        "      <td>Abbott, Mrs. Stanton (Rosa Hunt)</td>\n",
        "      <td>female</td>\n",
        "      <td>35.0</td>\n",
        "      <td>1</td>\n",
        "      <td>1</td>\n",
        "      <td>C.A. 2673</td>\n",
        "      <td>20.2500</td>\n",
        "      <td>NaN</td>\n",
        "      <td>S</td>\n",
        "    </tr>\n",
        "  </tbody>\n",
        "</table>\n",
        "</div>"
       ],
       "metadata": {},
       "output_type": "pyout",
       "prompt_number": 2,
       "text": [
        "     PassengerId  Survived  Pclass                              Name     Sex  \\\n",
        "693          694         0       3                  Saad, Mr. Khalil    male   \n",
        "157          158         0       3                   Corn, Mr. Harry    male   \n",
        "156          157         1       3  Gilnagh, Miss. Katherine \"Katie\"  female   \n",
        "547          548         1       2        Padro y Manent, Mr. Julian    male   \n",
        "279          280         1       3  Abbott, Mrs. Stanton (Rosa Hunt)  female   \n",
        "\n",
        "      Age  SibSp  Parch           Ticket     Fare Cabin Embarked  \n",
        "693  25.0      0      0             2672   7.2250   NaN        C  \n",
        "157  30.0      0      0  SOTON/OQ 392090   8.0500   NaN        S  \n",
        "156  16.0      0      0            35851   7.7333   NaN        Q  \n",
        "547   NaN      0      0    SC/PARIS 2146  13.8625   NaN        C  \n",
        "279  35.0      1      1        C.A. 2673  20.2500   NaN        S  "
       ]
      }
     ],
     "prompt_number": 2
    },
    {
     "cell_type": "code",
     "collapsed": false,
     "input": [
      "data_train.Cabin.fillna('N')\n",
      "data_train.Cabin = data_train.Cabin.apply(lambda x: x[0])"
     ],
     "language": "python",
     "metadata": {},
     "outputs": [
      {
       "ename": "TypeError",
       "evalue": "'float' object has no attribute '__getitem__'",
       "output_type": "pyerr",
       "traceback": [
        "\u001b[0;31m---------------------------------------------------------------------------\u001b[0m\n\u001b[0;31mTypeError\u001b[0m                                 Traceback (most recent call last)",
        "\u001b[0;32m<ipython-input-11-dbdcc55432e8>\u001b[0m in \u001b[0;36m<module>\u001b[0;34m()\u001b[0m\n\u001b[1;32m      1\u001b[0m \u001b[0mdata_train\u001b[0m\u001b[0;34m.\u001b[0m\u001b[0mCabin\u001b[0m\u001b[0;34m.\u001b[0m\u001b[0mfillna\u001b[0m\u001b[0;34m(\u001b[0m\u001b[0;34m'N'\u001b[0m\u001b[0;34m)\u001b[0m\u001b[0;34m\u001b[0m\u001b[0m\n\u001b[0;32m----> 2\u001b[0;31m \u001b[0mdata_train\u001b[0m\u001b[0;34m.\u001b[0m\u001b[0mCabin\u001b[0m \u001b[0;34m=\u001b[0m \u001b[0mdata_train\u001b[0m\u001b[0;34m.\u001b[0m\u001b[0mCabin\u001b[0m\u001b[0;34m.\u001b[0m\u001b[0mapply\u001b[0m\u001b[0;34m(\u001b[0m\u001b[0;32mlambda\u001b[0m \u001b[0mx\u001b[0m\u001b[0;34m:\u001b[0m \u001b[0mx\u001b[0m\u001b[0;34m[\u001b[0m\u001b[0;36m0\u001b[0m\u001b[0;34m]\u001b[0m\u001b[0;34m)\u001b[0m\u001b[0;34m\u001b[0m\u001b[0m\n\u001b[0m",
        "\u001b[0;32m/home/c3k4/.local/lib/python2.7/site-packages/pandas/core/series.pyc\u001b[0m in \u001b[0;36mapply\u001b[0;34m(self, func, convert_dtype, args, **kwds)\u001b[0m\n\u001b[1;32m   2353\u001b[0m             \u001b[0;32melse\u001b[0m\u001b[0;34m:\u001b[0m\u001b[0;34m\u001b[0m\u001b[0m\n\u001b[1;32m   2354\u001b[0m                 \u001b[0mvalues\u001b[0m \u001b[0;34m=\u001b[0m \u001b[0mself\u001b[0m\u001b[0;34m.\u001b[0m\u001b[0masobject\u001b[0m\u001b[0;34m\u001b[0m\u001b[0m\n\u001b[0;32m-> 2355\u001b[0;31m                 \u001b[0mmapped\u001b[0m \u001b[0;34m=\u001b[0m \u001b[0mlib\u001b[0m\u001b[0;34m.\u001b[0m\u001b[0mmap_infer\u001b[0m\u001b[0;34m(\u001b[0m\u001b[0mvalues\u001b[0m\u001b[0;34m,\u001b[0m \u001b[0mf\u001b[0m\u001b[0;34m,\u001b[0m \u001b[0mconvert\u001b[0m\u001b[0;34m=\u001b[0m\u001b[0mconvert_dtype\u001b[0m\u001b[0;34m)\u001b[0m\u001b[0;34m\u001b[0m\u001b[0m\n\u001b[0m\u001b[1;32m   2356\u001b[0m \u001b[0;34m\u001b[0m\u001b[0m\n\u001b[1;32m   2357\u001b[0m         \u001b[0;32mif\u001b[0m \u001b[0mlen\u001b[0m\u001b[0;34m(\u001b[0m\u001b[0mmapped\u001b[0m\u001b[0;34m)\u001b[0m \u001b[0;32mand\u001b[0m \u001b[0misinstance\u001b[0m\u001b[0;34m(\u001b[0m\u001b[0mmapped\u001b[0m\u001b[0;34m[\u001b[0m\u001b[0;36m0\u001b[0m\u001b[0;34m]\u001b[0m\u001b[0;34m,\u001b[0m \u001b[0mSeries\u001b[0m\u001b[0;34m)\u001b[0m\u001b[0;34m:\u001b[0m\u001b[0;34m\u001b[0m\u001b[0m\n",
        "\u001b[0;32m/home/c3k4/.local/lib/python2.7/site-packages/pandas/_libs/lib.so\u001b[0m in \u001b[0;36mpandas._libs.lib.map_infer (pandas/_libs/lib.c:66645)\u001b[0;34m()\u001b[0m\n",
        "\u001b[0;32m<ipython-input-11-dbdcc55432e8>\u001b[0m in \u001b[0;36m<lambda>\u001b[0;34m(x)\u001b[0m\n\u001b[1;32m      1\u001b[0m \u001b[0mdata_train\u001b[0m\u001b[0;34m.\u001b[0m\u001b[0mCabin\u001b[0m\u001b[0;34m.\u001b[0m\u001b[0mfillna\u001b[0m\u001b[0;34m(\u001b[0m\u001b[0;34m'N'\u001b[0m\u001b[0;34m)\u001b[0m\u001b[0;34m\u001b[0m\u001b[0m\n\u001b[0;32m----> 2\u001b[0;31m \u001b[0mdata_train\u001b[0m\u001b[0;34m.\u001b[0m\u001b[0mCabin\u001b[0m \u001b[0;34m=\u001b[0m \u001b[0mdata_train\u001b[0m\u001b[0;34m.\u001b[0m\u001b[0mCabin\u001b[0m\u001b[0;34m.\u001b[0m\u001b[0mapply\u001b[0m\u001b[0;34m(\u001b[0m\u001b[0;32mlambda\u001b[0m \u001b[0mx\u001b[0m\u001b[0;34m:\u001b[0m \u001b[0mx\u001b[0m\u001b[0;34m[\u001b[0m\u001b[0;36m0\u001b[0m\u001b[0;34m]\u001b[0m\u001b[0;34m)\u001b[0m\u001b[0;34m\u001b[0m\u001b[0m\n\u001b[0m",
        "\u001b[0;31mTypeError\u001b[0m: 'float' object has no attribute '__getitem__'"
       ]
      }
     ],
     "prompt_number": 11
    },
    {
     "cell_type": "code",
     "collapsed": false,
     "input": [
      "len(data_train)"
     ],
     "language": "python",
     "metadata": {},
     "outputs": [
      {
       "metadata": {},
       "output_type": "pyout",
       "prompt_number": 24,
       "text": [
        "891"
       ]
      }
     ],
     "prompt_number": 24
    },
    {
     "cell_type": "code",
     "collapsed": false,
     "input": [
      "data_test.sample(3)"
     ],
     "language": "python",
     "metadata": {},
     "outputs": [
      {
       "html": [
        "<div style=\"max-width:1500px;overflow:auto;\">\n",
        "<style>\n",
        "    .dataframe thead tr:only-child th {\n",
        "        text-align: right;\n",
        "    }\n",
        "\n",
        "    .dataframe thead th {\n",
        "        text-align: left;\n",
        "    }\n",
        "\n",
        "    .dataframe tbody tr th {\n",
        "        vertical-align: top;\n",
        "    }\n",
        "</style>\n",
        "<table border=\"1\" class=\"dataframe\">\n",
        "  <thead>\n",
        "    <tr style=\"text-align: right;\">\n",
        "      <th></th>\n",
        "      <th>PassengerId</th>\n",
        "      <th>Pclass</th>\n",
        "      <th>Name</th>\n",
        "      <th>Sex</th>\n",
        "      <th>Age</th>\n",
        "      <th>SibSp</th>\n",
        "      <th>Parch</th>\n",
        "      <th>Ticket</th>\n",
        "      <th>Fare</th>\n",
        "      <th>Cabin</th>\n",
        "      <th>Embarked</th>\n",
        "    </tr>\n",
        "  </thead>\n",
        "  <tbody>\n",
        "    <tr>\n",
        "      <th>391</th>\n",
        "      <td>1283</td>\n",
        "      <td>1</td>\n",
        "      <td>Lines, Mrs. Ernest H (Elizabeth Lindsey James)</td>\n",
        "      <td>female</td>\n",
        "      <td>51.0</td>\n",
        "      <td>0</td>\n",
        "      <td>1</td>\n",
        "      <td>PC 17592</td>\n",
        "      <td>39.40</td>\n",
        "      <td>D28</td>\n",
        "      <td>S</td>\n",
        "    </tr>\n",
        "    <tr>\n",
        "      <th>42</th>\n",
        "      <td>934</td>\n",
        "      <td>3</td>\n",
        "      <td>Goldsmith, Mr. Nathan</td>\n",
        "      <td>male</td>\n",
        "      <td>41.0</td>\n",
        "      <td>0</td>\n",
        "      <td>0</td>\n",
        "      <td>SOTON/O.Q. 3101263</td>\n",
        "      <td>7.85</td>\n",
        "      <td>NaN</td>\n",
        "      <td>S</td>\n",
        "    </tr>\n",
        "    <tr>\n",
        "      <th>152</th>\n",
        "      <td>1044</td>\n",
        "      <td>3</td>\n",
        "      <td>Storey, Mr. Thomas</td>\n",
        "      <td>male</td>\n",
        "      <td>60.5</td>\n",
        "      <td>0</td>\n",
        "      <td>0</td>\n",
        "      <td>3701</td>\n",
        "      <td>NaN</td>\n",
        "      <td>NaN</td>\n",
        "      <td>S</td>\n",
        "    </tr>\n",
        "  </tbody>\n",
        "</table>\n",
        "</div>"
       ],
       "metadata": {},
       "output_type": "pyout",
       "prompt_number": 26,
       "text": [
        "     PassengerId  Pclass                                            Name  \\\n",
        "391         1283       1  Lines, Mrs. Ernest H (Elizabeth Lindsey James)   \n",
        "42           934       3                           Goldsmith, Mr. Nathan   \n",
        "152         1044       3                              Storey, Mr. Thomas   \n",
        "\n",
        "        Sex   Age  SibSp  Parch              Ticket   Fare Cabin Embarked  \n",
        "391  female  51.0      0      1            PC 17592  39.40   D28        S  \n",
        "42     male  41.0      0      0  SOTON/O.Q. 3101263   7.85   NaN        S  \n",
        "152    male  60.5      0      0                3701    NaN   NaN        S  "
       ]
      }
     ],
     "prompt_number": 26
    },
    {
     "cell_type": "code",
     "collapsed": false,
     "input": [
      "len(data_test)"
     ],
     "language": "python",
     "metadata": {},
     "outputs": [
      {
       "metadata": {},
       "output_type": "pyout",
       "prompt_number": 25,
       "text": [
        "418"
       ]
      }
     ],
     "prompt_number": 25
    },
    {
     "cell_type": "heading",
     "level": 1,
     "metadata": {},
     "source": [
      "Visualizing Data"
     ]
    },
    {
     "cell_type": "code",
     "collapsed": false,
     "input": [
      "sns.barplot(x=\"Sex\", y=\"Survived\", data=data_train)"
     ],
     "language": "python",
     "metadata": {},
     "outputs": [
      {
       "metadata": {},
       "output_type": "pyout",
       "prompt_number": 16,
       "text": [
        "<matplotlib.axes._subplots.AxesSubplot at 0x7f7151a9cb10>"
       ]
      },
      {
       "metadata": {},
       "output_type": "display_data",
       "png": "[encoded data removed]",
       "text": [
        "<matplotlib.figure.Figure at 0x7f7151ac4d90>"
       ]
      }
     ],
     "prompt_number": 16
    },
    {
     "cell_type": "code",
     "collapsed": false,
     "input": [
      "sns.barplot(x=\"Embarked\", y=\"Survived\", hue=\"Sex\", data=data_train);"
     ],
     "language": "python",
     "metadata": {},
     "outputs": [
      {
       "output_type": "stream",
       "stream": "stderr",
       "text": [
        "/home/c3k4/.local/lib/python2.7/site-packages/matplotlib/__init__.py:938: UserWarning: axes.color_cycle is deprecated and replaced with axes.prop_cycle; please use the latter.\n",
        "  warnings.warn(self.msg_depr % (key, alt_key))\n"
       ]
      },
      {
       "metadata": {},
       "output_type": "display_data",
       "png": "[encoded data removed]",
       "text": [
        "<matplotlib.figure.Figure at 0x7f71842abf90>"
       ]
      }
     ],
     "prompt_number": 2
    },
    {
     "cell_type": "code",
     "collapsed": false,
     "input": [
      "sns.pointplot(x=\"Pclass\", y=\"Survived\", hue=\"Sex\", data=data_train,\n",
      "              palette={\"male\": \"blue\", \"female\": \"pink\"},\n",
      "              markers=[\"*\", \"o\"], linestyles=[\"-\", \"--\"]);"
     ],
     "language": "python",
     "metadata": {},
     "outputs": [
      {
       "metadata": {},
       "output_type": "display_data",
       "png": "[encoded data removed]",
       "text": [
        "<matplotlib.figure.Figure at 0x7f7154503150>"
       ]
      }
     ],
     "prompt_number": 3
    },
    {
     "cell_type": "heading",
     "level": 1,
     "metadata": {},
     "source": [
      "Transforming Features"
     ]
    },
    {
     "cell_type": "markdown",
     "metadata": {},
     "source": [
      "1)Aside from 'Sex', the 'Age' feature is second in importance. To avoid overfitting, I'm grouping people into logical human age groups."
     ]
    },
    {
     "cell_type": "markdown",
     "metadata": {},
     "source": [
      "2)Each Cabin starts with a letter. I bet this letter is much more important than the number that follows, let's slice it off.\n",
      "\n",
      "3)Fare is another continuous value that should be simplified. I ran data_train.Fare.describe() to get the distribution of the feature, then placed them into quartile bins accordingly.\n",
      "\n",
      "4)Extract information from the 'Name' feature. Rather than use the full name, I extracted the last name and name prefix (Mr. Mrs. Etc.), then appended them as their own features.\n",
      "\n",
      "5)Lastly, drop useless features. (Ticket and Name)"
     ]
    },
    {
     "cell_type": "code",
     "collapsed": false,
     "input": [
      "def simplify_ages(df):\n",
      "    df.Age = df.Age.fillna(-0.5)\n",
      "    bins = (-1, 0, 5, 12, 18, 25, 35, 60, 120)\n",
      "    group_names = ['Unknown', 'Baby', 'Child', 'Teenager', 'Student', 'Young Adult', 'Adult', 'Senior']\n",
      "    categories = pd.cut(df.Age, bins, labels=group_names)\n",
      "    df.Age = categories\n",
      "    return df\n",
      "\n",
      "def simplify_cabins(df):\n",
      "    df.Cabin = df.Cabin.fillna('N')\n",
      "    df.Cabin = df.Cabin.apply(lambda x: x[0])\n",
      "    return df\n",
      "\n",
      "def simplify_fares(df):\n",
      "    df.Fare = df.Fare.fillna(-0.5)\n",
      "    bins = (-1, 0, 8, 15, 31, 1000)\n",
      "    group_names = ['Unknown', '1_quartile', '2_quartile', '3_quartile', '4_quartile']\n",
      "    categories = pd.cut(df.Fare, bins, labels=group_names)\n",
      "    df.Fare = categories\n",
      "    return df\n",
      "\n",
      "def format_name(df):\n",
      "    df['Lname'] = df.Name.apply(lambda x: x.split(' ')[0])\n",
      "    df['NamePrefix'] = df.Name.apply(lambda x: x.split(' ')[1])\n",
      "    return df    \n",
      "    \n",
      "def drop_features(df):\n",
      "    return df.drop(['Ticket', 'Name', 'Embarked'], axis=1)\n",
      "\n",
      "def transform_features(df):\n",
      "    df = simplify_ages(df)\n",
      "    df = simplify_cabins(df)\n",
      "    df = simplify_fares(df)\n",
      "    df = format_name(df)\n",
      "    df = drop_features(df)\n",
      "    return df\n",
      "\n",
      "data_train = transform_features(data_train)\n",
      "data_test = transform_features(data_test)\n",
      "data_train.head()"
     ],
     "language": "python",
     "metadata": {},
     "outputs": [
      {
       "html": [
        "<div style=\"max-width:1500px;overflow:auto;\">\n",
        "<style>\n",
        "    .dataframe thead tr:only-child th {\n",
        "        text-align: right;\n",
        "    }\n",
        "\n",
        "    .dataframe thead th {\n",
        "        text-align: left;\n",
        "    }\n",
        "\n",
        "    .dataframe tbody tr th {\n",
        "        vertical-align: top;\n",
        "    }\n",
        "</style>\n",
        "<table border=\"1\" class=\"dataframe\">\n",
        "  <thead>\n",
        "    <tr style=\"text-align: right;\">\n",
        "      <th></th>\n",
        "      <th>PassengerId</th>\n",
        "      <th>Survived</th>\n",
        "      <th>Pclass</th>\n",
        "      <th>Sex</th>\n",
        "      <th>Age</th>\n",
        "      <th>SibSp</th>\n",
        "      <th>Parch</th>\n",
        "      <th>Fare</th>\n",
        "      <th>Cabin</th>\n",
        "      <th>Lname</th>\n",
        "      <th>NamePrefix</th>\n",
        "    </tr>\n",
        "  </thead>\n",
        "  <tbody>\n",
        "    <tr>\n",
        "      <th>0</th>\n",
        "      <td>1</td>\n",
        "      <td>0</td>\n",
        "      <td>3</td>\n",
        "      <td>male</td>\n",
        "      <td>Student</td>\n",
        "      <td>1</td>\n",
        "      <td>0</td>\n",
        "      <td>1_quartile</td>\n",
        "      <td>N</td>\n",
        "      <td>Braund,</td>\n",
        "      <td>Mr.</td>\n",
        "    </tr>\n",
        "    <tr>\n",
        "      <th>1</th>\n",
        "      <td>2</td>\n",
        "      <td>1</td>\n",
        "      <td>1</td>\n",
        "      <td>female</td>\n",
        "      <td>Adult</td>\n",
        "      <td>1</td>\n",
        "      <td>0</td>\n",
        "      <td>4_quartile</td>\n",
        "      <td>C</td>\n",
        "      <td>Cumings,</td>\n",
        "      <td>Mrs.</td>\n",
        "    </tr>\n",
        "    <tr>\n",
        "      <th>2</th>\n",
        "      <td>3</td>\n",
        "      <td>1</td>\n",
        "      <td>3</td>\n",
        "      <td>female</td>\n",
        "      <td>Young Adult</td>\n",
        "      <td>0</td>\n",
        "      <td>0</td>\n",
        "      <td>1_quartile</td>\n",
        "      <td>N</td>\n",
        "      <td>Heikkinen,</td>\n",
        "      <td>Miss.</td>\n",
        "    </tr>\n",
        "    <tr>\n",
        "      <th>3</th>\n",
        "      <td>4</td>\n",
        "      <td>1</td>\n",
        "      <td>1</td>\n",
        "      <td>female</td>\n",
        "      <td>Young Adult</td>\n",
        "      <td>1</td>\n",
        "      <td>0</td>\n",
        "      <td>4_quartile</td>\n",
        "      <td>C</td>\n",
        "      <td>Futrelle,</td>\n",
        "      <td>Mrs.</td>\n",
        "    </tr>\n",
        "    <tr>\n",
        "      <th>4</th>\n",
        "      <td>5</td>\n",
        "      <td>0</td>\n",
        "      <td>3</td>\n",
        "      <td>male</td>\n",
        "      <td>Young Adult</td>\n",
        "      <td>0</td>\n",
        "      <td>0</td>\n",
        "      <td>2_quartile</td>\n",
        "      <td>N</td>\n",
        "      <td>Allen,</td>\n",
        "      <td>Mr.</td>\n",
        "    </tr>\n",
        "  </tbody>\n",
        "</table>\n",
        "</div>"
       ],
       "metadata": {},
       "output_type": "pyout",
       "prompt_number": 4,
       "text": [
        "   PassengerId  Survived  Pclass     Sex          Age  SibSp  Parch  \\\n",
        "0            1         0       3    male      Student      1      0   \n",
        "1            2         1       1  female        Adult      1      0   \n",
        "2            3         1       3  female  Young Adult      0      0   \n",
        "3            4         1       1  female  Young Adult      1      0   \n",
        "4            5         0       3    male  Young Adult      0      0   \n",
        "\n",
        "         Fare Cabin       Lname NamePrefix  \n",
        "0  1_quartile     N     Braund,        Mr.  \n",
        "1  4_quartile     C    Cumings,       Mrs.  \n",
        "2  1_quartile     N  Heikkinen,      Miss.  \n",
        "3  4_quartile     C   Futrelle,       Mrs.  \n",
        "4  2_quartile     N      Allen,        Mr.  "
       ]
      }
     ],
     "prompt_number": 4
    },
    {
     "cell_type": "code",
     "collapsed": false,
     "input": [
      "sns.barplot(x=\"Age\", y=\"Survived\", hue=\"Sex\", data=data_train);"
     ],
     "language": "python",
     "metadata": {},
     "outputs": [
      {
       "metadata": {},
       "output_type": "display_data",
       "png": "[encoded data removed]",
       "text": [
        "<matplotlib.figure.Figure at 0x7f7151b18790>"
       ]
      }
     ],
     "prompt_number": 5
    },
    {
     "cell_type": "code",
     "collapsed": false,
     "input": [
      "sns.barplot(x=\"Cabin\", y=\"Survived\", hue=\"Sex\", data=data_train);"
     ],
     "language": "python",
     "metadata": {},
     "outputs": [
      {
       "metadata": {},
       "output_type": "display_data",
       "png": "[encoded data removed]",
       "text": [
        "<matplotlib.figure.Figure at 0x7f71519a7250>"
       ]
      }
     ],
     "prompt_number": 6
    },
    {
     "cell_type": "code",
     "collapsed": false,
     "input": [
      "sns.barplot(x=\"Fare\", y=\"Survived\", hue=\"Sex\", data=data_train);"
     ],
     "language": "python",
     "metadata": {},
     "outputs": [
      {
       "metadata": {},
       "output_type": "display_data",
       "png": "[encoded data removed]",
       "text": [
        "<matplotlib.figure.Figure at 0x7f715199ea10>"
       ]
      }
     ],
     "prompt_number": 7
    },
    {
     "cell_type": "heading",
     "level": 1,
     "metadata": {},
     "source": [
      "Some Final Encoding"
     ]
    },
    {
     "cell_type": "markdown",
     "metadata": {},
     "source": [
      "The last part of the preprocessing phase is to normalize labels. The LabelEncoder in Scikit-learn will convert each unique string value into a number, making out data more flexible for various algorithms.\n",
      "\n",
      "The result is a table of numbers that looks scary to humans, but beautiful to machines."
     ]
    },
    {
     "cell_type": "code",
     "collapsed": false,
     "input": [
      "from sklearn import preprocessing\n",
      "def encode_features(df_train, df_test):\n",
      "    features = ['Fare', 'Cabin', 'Age', 'Sex', 'Lname', 'NamePrefix']\n",
      "    df_combined = pd.concat([df_train[features], df_test[features]])\n",
      "    \n",
      "    for feature in features:\n",
      "        le = preprocessing.LabelEncoder()\n",
      "        le = le.fit(df_combined[feature])\n",
      "        df_train[feature] = le.transform(df_train[feature])\n",
      "        df_test[feature] = le.transform(df_test[feature])\n",
      "    return df_train, df_test\n",
      "    \n",
      "data_train, data_test = encode_features(data_train, data_test)\n",
      "data_train.head()"
     ],
     "language": "python",
     "metadata": {},
     "outputs": [
      {
       "html": [
        "<div style=\"max-width:1500px;overflow:auto;\">\n",
        "<style>\n",
        "    .dataframe thead tr:only-child th {\n",
        "        text-align: right;\n",
        "    }\n",
        "\n",
        "    .dataframe thead th {\n",
        "        text-align: left;\n",
        "    }\n",
        "\n",
        "    .dataframe tbody tr th {\n",
        "        vertical-align: top;\n",
        "    }\n",
        "</style>\n",
        "<table border=\"1\" class=\"dataframe\">\n",
        "  <thead>\n",
        "    <tr style=\"text-align: right;\">\n",
        "      <th></th>\n",
        "      <th>PassengerId</th>\n",
        "      <th>Survived</th>\n",
        "      <th>Pclass</th>\n",
        "      <th>Sex</th>\n",
        "      <th>Age</th>\n",
        "      <th>SibSp</th>\n",
        "      <th>Parch</th>\n",
        "      <th>Fare</th>\n",
        "      <th>Cabin</th>\n",
        "      <th>Lname</th>\n",
        "      <th>NamePrefix</th>\n",
        "    </tr>\n",
        "  </thead>\n",
        "  <tbody>\n",
        "    <tr>\n",
        "      <th>0</th>\n",
        "      <td>1</td>\n",
        "      <td>0</td>\n",
        "      <td>3</td>\n",
        "      <td>1</td>\n",
        "      <td>4</td>\n",
        "      <td>1</td>\n",
        "      <td>0</td>\n",
        "      <td>0</td>\n",
        "      <td>7</td>\n",
        "      <td>100</td>\n",
        "      <td>19</td>\n",
        "    </tr>\n",
        "    <tr>\n",
        "      <th>1</th>\n",
        "      <td>2</td>\n",
        "      <td>1</td>\n",
        "      <td>1</td>\n",
        "      <td>0</td>\n",
        "      <td>0</td>\n",
        "      <td>1</td>\n",
        "      <td>0</td>\n",
        "      <td>3</td>\n",
        "      <td>2</td>\n",
        "      <td>182</td>\n",
        "      <td>20</td>\n",
        "    </tr>\n",
        "    <tr>\n",
        "      <th>2</th>\n",
        "      <td>3</td>\n",
        "      <td>1</td>\n",
        "      <td>3</td>\n",
        "      <td>0</td>\n",
        "      <td>7</td>\n",
        "      <td>0</td>\n",
        "      <td>0</td>\n",
        "      <td>0</td>\n",
        "      <td>7</td>\n",
        "      <td>329</td>\n",
        "      <td>16</td>\n",
        "    </tr>\n",
        "    <tr>\n",
        "      <th>3</th>\n",
        "      <td>4</td>\n",
        "      <td>1</td>\n",
        "      <td>1</td>\n",
        "      <td>0</td>\n",
        "      <td>7</td>\n",
        "      <td>1</td>\n",
        "      <td>0</td>\n",
        "      <td>3</td>\n",
        "      <td>2</td>\n",
        "      <td>267</td>\n",
        "      <td>20</td>\n",
        "    </tr>\n",
        "    <tr>\n",
        "      <th>4</th>\n",
        "      <td>5</td>\n",
        "      <td>0</td>\n",
        "      <td>3</td>\n",
        "      <td>1</td>\n",
        "      <td>7</td>\n",
        "      <td>0</td>\n",
        "      <td>0</td>\n",
        "      <td>1</td>\n",
        "      <td>7</td>\n",
        "      <td>15</td>\n",
        "      <td>19</td>\n",
        "    </tr>\n",
        "  </tbody>\n",
        "</table>\n",
        "</div>"
       ],
       "metadata": {},
       "output_type": "pyout",
       "prompt_number": 8,
       "text": [
        "   PassengerId  Survived  Pclass  Sex  Age  SibSp  Parch  Fare  Cabin  Lname  \\\n",
        "0            1         0       3    1    4      1      0     0      7    100   \n",
        "1            2         1       1    0    0      1      0     3      2    182   \n",
        "2            3         1       3    0    7      0      0     0      7    329   \n",
        "3            4         1       1    0    7      1      0     3      2    267   \n",
        "4            5         0       3    1    7      0      0     1      7     15   \n",
        "\n",
        "   NamePrefix  \n",
        "0          19  \n",
        "1          20  \n",
        "2          16  \n",
        "3          20  \n",
        "4          19  "
       ]
      }
     ],
     "prompt_number": 8
    },
    {
     "cell_type": "heading",
     "level": 1,
     "metadata": {},
     "source": [
      "Splitting up the Training Data"
     ]
    },
    {
     "cell_type": "markdown",
     "metadata": {},
     "source": [
      "Now its time for some Machine Learning.\n",
      "\n",
      "First, separate the features(X) from the labels(y).\n",
      "\n",
      "X_all: All features minus the value we want to predict (Survived).\n",
      "\n",
      "y_all: Only the value we want to predict.\n",
      "\n",
      "Second, use Scikit-learn to randomly shuffle this data into four variables. In this case, I'm training 80% of the data, then testing against the other 20%.\n",
      "\n",
      "Later, this data will be reorganized into a KFold pattern to validate the effectiveness of a trained algorithm."
     ]
    },
    {
     "cell_type": "code",
     "collapsed": false,
     "input": [
      "from sklearn.model_selection import train_test_split\n",
      "\n",
      "X_all = data_train.drop(['Survived', 'PassengerId'], axis=1)\n",
      "y_all = data_train['Survived']\n",
      "\n",
      "num_test = 0.20\n",
      "X_train, X_test, y_train, y_test = train_test_split(X_all, y_all, test_size=num_test, random_state=23)"
     ],
     "language": "python",
     "metadata": {},
     "outputs": [],
     "prompt_number": 9
    },
    {
     "cell_type": "heading",
     "level": 1,
     "metadata": {},
     "source": [
      "Fitting and Tuning an Algorithm"
     ]
    },
    {
     "cell_type": "markdown",
     "metadata": {},
     "source": [
      "Now it's time to figure out which algorithm is going to deliver the best model. I'm going with the RandomForestClassifier, but you can drop any other classifier here, such as Support Vector Machines or Naive Bayes."
     ]
    },
    {
     "cell_type": "code",
     "collapsed": false,
     "input": [
      "from sklearn.ensemble import RandomForestClassifier\n",
      "from sklearn.metrics import make_scorer, accuracy_score\n",
      "from sklearn.model_selection import GridSearchCV\n",
      "\n",
      "# Choose the type of classifier. \n",
      "clf = RandomForestClassifier()\n",
      "\n",
      "# Choose some parameter combinations to try\n",
      "parameters = {'n_estimators': [4, 6, 9], \n",
      "              'max_features': ['log2', 'sqrt','auto'], \n",
      "              'criterion': ['entropy', 'gini'],\n",
      "              'max_depth': [2, 3, 5, 10], \n",
      "              'min_samples_split': [2, 3, 5],\n",
      "              'min_samples_leaf': [1,5,8]\n",
      "             }\n",
      "\n",
      "# Type of scoring used to compare parameter combinations\n",
      "acc_scorer = make_scorer(accuracy_score)\n",
      "\n",
      "# Run the grid search\n",
      "grid_obj = GridSearchCV(clf, parameters, scoring=acc_scorer)\n",
      "grid_obj = grid_obj.fit(X_train, y_train)\n",
      "\n",
      "# Set the clf to the best combination of parameters\n",
      "clf = grid_obj.best_estimator_\n",
      "\n",
      "# Fit the best algorithm to the data. \n",
      "clf.fit(X_train, y_train)"
     ],
     "language": "python",
     "metadata": {},
     "outputs": [
      {
       "metadata": {},
       "output_type": "pyout",
       "prompt_number": 10,
       "text": [
        "RandomForestClassifier(bootstrap=True, class_weight=None, criterion='entropy',\n",
        "            max_depth=10, max_features='auto', max_leaf_nodes=None,\n",
        "            min_impurity_split=1e-07, min_samples_leaf=1,\n",
        "            min_samples_split=3, min_weight_fraction_leaf=0.0,\n",
        "            n_estimators=9, n_jobs=1, oob_score=False, random_state=None,\n",
        "            verbose=0, warm_start=False)"
       ]
      }
     ],
     "prompt_number": 10
    },
    {
     "cell_type": "code",
     "collapsed": false,
     "input": [
      "predictions = clf.predict(X_test)\n",
      "print(accuracy_score(y_test, predictions))"
     ],
     "language": "python",
     "metadata": {},
     "outputs": [
      {
       "output_type": "stream",
       "stream": "stdout",
       "text": [
        "0.821229050279\n"
       ]
      }
     ],
     "prompt_number": 11
    },
    {
     "cell_type": "heading",
     "level": 1,
     "metadata": {},
     "source": [
      "Validate with KFold"
     ]
    },
    {
     "cell_type": "markdown",
     "metadata": {},
     "source": [
      "Is this model actually any good? It helps to verify the effectiveness of the algorithm using KFold. This will split our data into 10 buckets, then run the algorithm using a different bucket as the test set for each iteration."
     ]
    },
    {
     "cell_type": "code",
     "collapsed": false,
     "input": [
      "from sklearn.cross_validation import KFold\n",
      "\n",
      "def run_kfold(clf):\n",
      "    kf = KFold(891, n_folds=10)\n",
      "    outcomes = []\n",
      "    fold = 0\n",
      "    for train_index, test_index in kf:\n",
      "        fold += 1\n",
      "        X_train, X_test = X_all.values[train_index], X_all.values[test_index]\n",
      "        y_train, y_test = y_all.values[train_index], y_all.values[test_index]\n",
      "        clf.fit(X_train, y_train)\n",
      "        predictions = clf.predict(X_test)\n",
      "        accuracy = accuracy_score(y_test, predictions)\n",
      "        outcomes.append(accuracy)\n",
      "        print(\"Fold {0} accuracy: {1}\".format(fold, accuracy))     \n",
      "    mean_outcome = np.mean(outcomes)\n",
      "    print(\"Mean Accuracy: {0}\".format(mean_outcome)) \n",
      "\n",
      "run_kfold(clf)"
     ],
     "language": "python",
     "metadata": {},
     "outputs": [
      {
       "output_type": "stream",
       "stream": "stdout",
       "text": [
        "Fold 1 accuracy: 0.833333333333\n",
        "Fold 2 accuracy: 0.831460674157"
       ]
      },
      {
       "output_type": "stream",
       "stream": "stdout",
       "text": [
        "\n",
        "Fold 3 accuracy: 0.786516853933"
       ]
      },
      {
       "output_type": "stream",
       "stream": "stdout",
       "text": [
        "\n",
        "Fold 4 accuracy: 0.808988764045"
       ]
      },
      {
       "output_type": "stream",
       "stream": "stdout",
       "text": [
        "\n",
        "Fold 5 accuracy: 0.865168539326"
       ]
      },
      {
       "output_type": "stream",
       "stream": "stdout",
       "text": [
        "\n",
        "Fold 6 accuracy: 0.831460674157"
       ]
      },
      {
       "output_type": "stream",
       "stream": "stdout",
       "text": [
        "\n",
        "Fold 7 accuracy: 0.786516853933"
       ]
      },
      {
       "output_type": "stream",
       "stream": "stdout",
       "text": [
        "\n",
        "Fold 8 accuracy: 0.808988764045"
       ]
      },
      {
       "output_type": "stream",
       "stream": "stdout",
       "text": [
        "\n",
        "Fold 9 accuracy: 0.85393258427"
       ]
      },
      {
       "output_type": "stream",
       "stream": "stdout",
       "text": [
        "\n",
        "Fold 10 accuracy: 0.842696629213"
       ]
      },
      {
       "output_type": "stream",
       "stream": "stdout",
       "text": [
        "\n",
        "Mean Accuracy: 0.824906367041\n"
       ]
      },
      {
       "output_type": "stream",
       "stream": "stderr",
       "text": [
        "/usr/local/lib/python2.7/dist-packages/sklearn/cross_validation.py:44: DeprecationWarning: This module was deprecated in version 0.18 in favor of the model_selection module into which all the refactored classes and functions are moved. Also note that the interface of the new CV iterators are different from that of this module. This module will be removed in 0.20.\n",
        "  \"This module will be removed in 0.20.\", DeprecationWarning)\n"
       ]
      }
     ],
     "prompt_number": 12
    },
    {
     "cell_type": "heading",
     "level": 1,
     "metadata": {},
     "source": [
      "Predict the Actual Test Data"
     ]
    },
    {
     "cell_type": "markdown",
     "metadata": {},
     "source": [
      "And now for the moment of truth. Make the predictions, export the CSV file, and upload them to Kaggle"
     ]
    },
    {
     "cell_type": "code",
     "collapsed": false,
     "input": [
      "ids = data_test['PassengerId']\n",
      "predictions = clf.predict(data_test.drop('PassengerId', axis=1))\n",
      "\n",
      "\n",
      "output = pd.DataFrame({ 'PassengerId' : ids, 'Survived': predictions })\n",
      "# output.to_csv('titanic-predictions.csv', index = False)\n",
      "output.head()"
     ],
     "language": "python",
     "metadata": {},
     "outputs": [
      {
       "html": [
        "<div style=\"max-width:1500px;overflow:auto;\">\n",
        "<style>\n",
        "    .dataframe thead tr:only-child th {\n",
        "        text-align: right;\n",
        "    }\n",
        "\n",
        "    .dataframe thead th {\n",
        "        text-align: left;\n",
        "    }\n",
        "\n",
        "    .dataframe tbody tr th {\n",
        "        vertical-align: top;\n",
        "    }\n",
        "</style>\n",
        "<table border=\"1\" class=\"dataframe\">\n",
        "  <thead>\n",
        "    <tr style=\"text-align: right;\">\n",
        "      <th></th>\n",
        "      <th>PassengerId</th>\n",
        "      <th>Survived</th>\n",
        "    </tr>\n",
        "  </thead>\n",
        "  <tbody>\n",
        "    <tr>\n",
        "      <th>0</th>\n",
        "      <td>892</td>\n",
        "      <td>0</td>\n",
        "    </tr>\n",
        "    <tr>\n",
        "      <th>1</th>\n",
        "      <td>893</td>\n",
        "      <td>0</td>\n",
        "    </tr>\n",
        "    <tr>\n",
        "      <th>2</th>\n",
        "      <td>894</td>\n",
        "      <td>0</td>\n",
        "    </tr>\n",
        "    <tr>\n",
        "      <th>3</th>\n",
        "      <td>895</td>\n",
        "      <td>0</td>\n",
        "    </tr>\n",
        "    <tr>\n",
        "      <th>4</th>\n",
        "      <td>896</td>\n",
        "      <td>1</td>\n",
        "    </tr>\n",
        "  </tbody>\n",
        "</table>\n",
        "</div>"
       ],
       "metadata": {},
       "output_type": "pyout",
       "prompt_number": 13,
       "text": [
        "   PassengerId  Survived\n",
        "0          892         0\n",
        "1          893         0\n",
        "2          894         0\n",
        "3          895         0\n",
        "4          896         1"
       ]
      }
     ],
     "prompt_number": 13
    },
    {
     "cell_type": "code",
     "collapsed": false,
     "input": [],
     "language": "python",
     "metadata": {},
     "outputs": []
    }
   ],
   "metadata": {}
  }
 ]
}