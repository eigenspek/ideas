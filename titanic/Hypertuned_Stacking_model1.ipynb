{
  "metadata": {
    "language_info": {
      "name": "python",
      "version": "3.6.1",
      "mimetype": "text/x-python",
      "codemirror_mode": {
        "name": "ipython",
        "version": 3
      },
      "pygments_lexer": "ipython3",
      "nbconvert_exporter": "python",
      "file_extension": ".py"
    },
    "kernelspec": {
      "display_name": "Python 3",
      "language": "python",
      "name": "python3"
    }
  },
  "nbformat": 4,
  "nbformat_minor": 0,
  "cells": [
    {
      "metadata": {
        "_uuid": "d45c58a0cc113de74cb7d976acc21473e6808b41",
        "_cell_guid": "7418a6bb-30e4-40d2-b778-565a5df2c50b",
        "collapsed": false,
        "_execution_state": "idle"
      },
      "source": "## O",
      "outputs": [],
      "cell_type": "markdown",
      "execution_count": null
    },
    {
      "metadata": {
        "_uuid": "ec689b9f9a95030292a857c18639e2958bb89c4c",
        "_cell_guid": "8811ab7e-27ad-48ad-be25-087f6427bda3",
        "_execution_state": "idle",
        "trusted": false
      },
      "source": "# Loading Libraries\nimport os\nfrom time import time\nimport numpy as np\nimport pandas as pd\nimport re\nimport sklearn\nimport xgboost as xgb\nimport seaborn as sns\nimport matplotlib.pyplot as plt\n%matplotlib inline\n\nimport warnings\nwarnings.filterwarnings('ignore')\nfrom sklearn.ensemble import RandomForestClassifier, AdaBoostClassifier, GradientBoostingClassifier, ExtraTreesClassifier\nfrom sklearn.svm import SVC #SupportVectorClassifier\nfrom sklearn.cross_validation import KFold;\nfrom sklearn.metrics import accuracy_score",
      "outputs": [],
      "cell_type": "code",
      "execution_count": 3
    },
    {
      "metadata": {
        "_uuid": "7af94fa22b747aad752a235683b0600f349b7001",
        "_cell_guid": "937ca1f1-7894-410f-b825-61da2f30a3f5",
        "collapsed": false,
        "_execution_state": "idle",
        "trusted": false
      },
      "source": "data_train = pd.read_csv('../input/preproc2_train.csv')\ndata_test = pd.read_csv('../input/preproc2_test.csv')",
      "outputs": [],
      "cell_type": "code",
      "execution_count": 4
    },
    {
      "metadata": {
        "_uuid": "cf263c15df2a17b6d2ee75fa71dc717cf250abae",
        "_cell_guid": "4bae69e6-411a-4c22-a9ad-264f71c32fb8",
        "collapsed": false,
        "_execution_state": "idle",
        "trusted": false
      },
      "source": "#Preparing data :\nX = data_train.drop(['PassengerId','Survived'], axis=1)\nX = X.values # creates an array\ny = data_train['Survived']\ny = y.values\nX_test = data_test.drop(['PassengerId'], axis=1)\nX_test = X_test.values",
      "outputs": [],
      "cell_type": "code",
      "execution_count": 5
    },
    {
      "metadata": {
        "_uuid": "e679bf44e1c37d9854e487c25517bc3ff6c602f2",
        "_cell_guid": "9bc61bfa-7ed6-4554-a312-befd11e13449",
        "collapsed": false,
        "_execution_state": "idle",
        "trusted": false
      },
      "source": "ntrain = X.shape[0]\nntest = X_test.shape[0]\nSEED = 0 # for reproducibility\nNFOLDS = 9 # set folds for out-of-fold prediction\nkf = KFold(ntrain, n_folds= NFOLDS, random_state=SEED)",
      "outputs": [],
      "cell_type": "code",
      "execution_count": 6
    },
    {
      "metadata": {
        "_uuid": "b47b115787327846130191ddac241bd81b709056",
        "_cell_guid": "355fa5c3-bcca-477a-ace1-131c1d13e039",
        "collapsed": false,
        "_execution_state": "idle",
        "trusted": false
      },
      "source": "# Class to extend the Sklearn classifier\nclass SklearnHelper(object):\n    def __init__(self, clf, seed=0, params=None):\n        params['random_state'] = seed\n        self.clf = clf(**params)\n\n    def train(self, x_train, y_train):\n        self.clf.fit(x_train, y_train)\n\n    def predict(self, x):\n        return self.clf.predict(x)\n    \n    def fit(self,x,y):\n        return self.clf.fit(x,y)\n    \n    def feature_importances(self,x,y):\n        print(self.clf.fit(x,y).feature_importances_)",
      "outputs": [],
      "cell_type": "code",
      "execution_count": 7
    },
    {
      "metadata": {
        "_uuid": "9eab72c1035575b012c5172f546ba81fdeb12b6d",
        "_cell_guid": "1a6917d0-c6be-4685-8832-d59e15c713ef",
        "collapsed": false,
        "_execution_state": "idle",
        "trusted": false
      },
      "source": "def get_oof(clf, x_train, y_train, x_test):\n    oof_train = np.zeros((ntrain,))\n    oof_test = np.zeros((ntest,))\n    oof_test_skf = np.empty((NFOLDS, ntest))\n\n    for i, (train_index, test_index) in enumerate(kf):\n        x_tr = x_train[train_index]\n        y_tr = y_train[train_index]\n        x_te = x_train[test_index]\n\n        clf.train(x_tr, y_tr)\n\n        oof_train[test_index] = clf.predict(x_te)\n        oof_test_skf[i, :] = clf.predict(x_test)\n\n    oof_test[:] = oof_test_skf.mean(axis=0)\n    return oof_train.reshape(-1, 1), oof_test.reshape(-1, 1)",
      "outputs": [],
      "cell_type": "code",
      "execution_count": 8
    },
    {
      "metadata": {
        "_uuid": "1f4302f1bb8d6c636b6ea2a4fd34c9e102caecc9",
        "_cell_guid": "416126b4-0fbb-45ad-a3c8-e808a1bffabc",
        "collapsed": false,
        "_execution_state": "idle",
        "trusted": false
      },
      "source": "from scipy.stats import randint\nfrom sklearn.model_selection import RandomizedSearchCV\n",
      "outputs": [],
      "cell_type": "code",
      "execution_count": 9
    },
    {
      "metadata": {
        "_uuid": "b4cc168a12828a9744c1e58e5d1366badfa1e250",
        "_cell_guid": "2e69ebbd-96f9-456f-acb7-75e7ba1b422f",
        "collapsed": false,
        "_execution_state": "idle",
        "trusted": false
      },
      "source": "def hypertuning_rscv(est, p_distr, nbr_iter,X,y):\n    rdmsearch = RandomizedSearchCV(est, param_distributions=p_distr,\n                                  n_jobs=-1, n_iter=nbr_iter, cv=9)\n    #CV = Cross-Validation ( here using Stratified KFold CV)\n    start = time()\n    rdmsearch.fit(X,y)\n    print('hyper-tuning time : %d seconds' % (time()-start))\n    start = 0\n    ht_params = rdmsearch.best_params_\n    ht_score = rdmsearch.best_score_\n    return ht_params, ht_score\n    ",
      "outputs": [],
      "cell_type": "code",
      "execution_count": 10
    },
    {
      "metadata": {
        "_uuid": "334e382eb4acfcddac26b2c3d5eb531330aa57c1",
        "_cell_guid": "a93ecca6-0229-45c5-8e07-c414fb80f834",
        "collapsed": false,
        "_execution_state": "idle"
      },
      "source": "# 1st-level model 1 : RandomForest Classifier\nwe will search for the best tuning hyperparameters of the random forest classifier \n\nour estimator is the RandomForestClassifier and we will most likely use the RandomizedSearchCV as our search strategy.  Also, we will use the KFold Cross-validation and the basic accuracy_score as metric. \nNB: remember to use the parameter n_jobs=-1 for parallelization. ",
      "outputs": [],
      "cell_type": "markdown",
      "execution_count": null
    },
    {
      "metadata": {
        "_uuid": "1734f5c54f467174fc4a28d47cddb95ab2d17725",
        "_cell_guid": "6411ed99-1c32-4071-862d-2bf4c39c31b4",
        "collapsed": false,
        "_execution_state": "idle",
        "trusted": false
      },
      "source": "est = RandomForestClassifier(n_jobs=-1, n_estimators=500)\nrf_p_dist={'max_depth':[3,5,10,None],\n              'max_features':randint(1,6),\n               'criterion':['gini','entropy'],\n               'bootstrap':[True,False],\n               'min_samples_leaf':randint(1,10)\n              }\nrf_parameters, rf_ht_score = hypertuning_rscv(est, rf_p_dist, 40, X, y)\nrf_parameters['n_jobs']=-1\nrf_parameters['n_estimators']=500\nprint(rf_parameters)\nprint('Hyper-tuned model score :')\nprint(rf_ht_score)",
      "outputs": [],
      "cell_type": "code",
      "execution_count": 11
    },
    {
      "metadata": {
        "_uuid": "bb4ee27b9abd574a1b75be359f37e2f05b70c9b9",
        "_cell_guid": "812ffa29-e12e-49b3-b281-4642c080a295",
        "collapsed": false,
        "_execution_state": "idle"
      },
      "source": "** Building the Random Forest Classifier ** \nwe will build the random forest that we will use as one of the first level models, trained on dataset with an out-of-bag set. ",
      "outputs": [],
      "cell_type": "markdown",
      "execution_count": null
    },
    {
      "metadata": {
        "_uuid": "a9107eba38cd7b16653646bb671d5c13f199dbbc",
        "_cell_guid": "87a982d6-1d63-420c-b04e-dbf8db4c68de",
        "collapsed": false,
        "_execution_state": "idle",
        "trusted": false
      },
      "source": "rf = SklearnHelper(clf=RandomForestClassifier, seed=SEED, params=rf_parameters)\n# Now we train our model and get our out-of-bag sets\nrf_oof_train, rf_oof_test = get_oof(rf, X, y, X_test) \n# basic accuracy_score : \nprint(accuracy_score(rf_oof_train.ravel(), y)*100)",
      "outputs": [],
      "cell_type": "code",
      "execution_count": 12
    },
    {
      "metadata": {
        "_uuid": "57ebbc0d9d7b5d0b6728255fbe09e5a395fc2de6",
        "_cell_guid": "66bac985-4e74-4ebf-87bf-8c049ac9aeaa",
        "collapsed": false,
        "_execution_state": "idle"
      },
      "source": "##  1st-level model 2 : ExtraTreesClassifier",
      "outputs": [],
      "cell_type": "markdown",
      "execution_count": null
    },
    {
      "metadata": {
        "_uuid": "be24441965f84af68e9a52c6cbf2e6bbf30e853f",
        "_cell_guid": "858b95a0-8626-4b1b-b171-ab14d34aab31",
        "collapsed": false,
        "_execution_state": "idle",
        "trusted": false
      },
      "source": "est = ExtraTreesClassifier(n_jobs=-1, n_estimators=500)\net_p_dist = {'criterion':['gini','entropy'], \n             'max_features':randint(1,6), \n             'max_depth':[3,10,None],\n             'bootstrap':[True,False],\n             'min_samples_leaf':randint(1,10)\n             }",
      "outputs": [],
      "cell_type": "code",
      "execution_count": 13
    },
    {
      "metadata": {
        "_uuid": "7cc6adc51a8824febecb0fe643cad3de51b015eb",
        "_cell_guid": "f1328cf6-6c96-488f-bc7d-f1a25f3ba3e2",
        "collapsed": false,
        "_execution_state": "idle",
        "trusted": false
      },
      "source": "et_parameters, et_ht_score = hypertuning_rscv(est, et_p_dist, 30, X, y)\net_parameters['n_jobs']=-1\net_parameters['n_estimators']=500\nprint(et_parameters)\nprint('Hyper-tuned model score :')\nprint(et_ht_score)",
      "outputs": [],
      "cell_type": "code",
      "execution_count": 14
    },
    {
      "metadata": {
        "_uuid": "5ca21885e4e160c2717c83495d5e958dde88ed60",
        "_cell_guid": "05ef7e0a-2a1a-4f41-a02b-c32be0cdc990",
        "collapsed": false,
        "_execution_state": "idle",
        "trusted": false
      },
      "source": "et = SklearnHelper(clf=ExtraTreesClassifier, seed=SEED, params=et_parameters)\net_oof_train, et_oof_test = get_oof(et, X, y, X_test) \nprint(accuracy_score(et_oof_train.ravel(), y)*100)",
      "outputs": [],
      "cell_type": "code",
      "execution_count": 15
    },
    {
      "metadata": {
        "_uuid": "3878e506716cb15661e38edb6467a1837a377ab0",
        "_cell_guid": "b4be8084-ba0d-493e-915f-0a3c085ffa79",
        "collapsed": false,
        "_execution_state": "idle"
      },
      "source": "## 1st-level model 3 : AdaBoost Classifier",
      "outputs": [],
      "cell_type": "markdown",
      "execution_count": null
    },
    {
      "metadata": {
        "_uuid": "661fa52813478c765edebf1861d29adf03a90132",
        "_cell_guid": "807cb372-2151-4b4c-968b-c135b2aaf797",
        "collapsed": false,
        "_execution_state": "idle",
        "trusted": false
      },
      "source": "est = AdaBoostClassifier()\nada_p_dist={'learning_rate':[0.25,0.5,0.75,1.],\n            'n_estimators':[100,250,500,650],\n            }",
      "outputs": [],
      "cell_type": "code",
      "execution_count": null
    },
    {
      "metadata": {
        "_uuid": "4127f9be761d96945d6817a960b71f3143ac3d28",
        "_cell_guid": "1ca440e2-aac4-4e3e-8b93-9e3376a08879",
        "collapsed": false,
        "_execution_state": "busy",
        "trusted": false
      },
      "source": "ada_parameters, ada_ht_score = hypertuning_rscv(est, ada_p_dist, 10, X, y)\nprint(ada_parameters)\nprint('Hyper-tuned model score :')\nprint(ada_ht_score*100)",
      "outputs": [],
      "cell_type": "code",
      "execution_count": null
    },
    {
      "metadata": {
        "_uuid": "6aec59066faab9d52a03bc6ba110c9bb7f947d52",
        "_cell_guid": "85609f92-30f2-4d9e-8175-697f033c88df",
        "collapsed": false,
        "_execution_state": "busy",
        "trusted": false
      },
      "source": "ada = SklearnHelper(clf=AdaBoostClassifier, seed=SEED, params=ada_parameters)\nada_oof_train, ada_oof_test = get_oof(ada, X, y, X_test) \nprint(accuracy_score(ada_oof_train.ravel(), y)*100)",
      "outputs": [],
      "cell_type": "code",
      "execution_count": null
    },
    {
      "metadata": {
        "_uuid": "031c827e189ec217719da5afb4c841536d6f6d09",
        "_cell_guid": "6d811084-0af5-4f4a-acc6-de17c86e11e4",
        "collapsed": false,
        "_execution_state": "idle"
      },
      "source": "## 1st-level model 4 : Gradient Boosting Classifier",
      "outputs": [],
      "cell_type": "markdown",
      "execution_count": null
    },
    {
      "metadata": {
        "_uuid": "2e8824897021024a081577ae2d332d234d17eb51",
        "_cell_guid": "6a396fc5-dcd4-4675-9ff2-2ab0900f317e",
        "collapsed": false,
        "_execution_state": "busy",
        "trusted": false
      },
      "source": "est = GradientBoostingClassifier()\ngb_p_dist={'n_estimators':[100,250,500,750],\n           'max_depth':[3,5,10,None],\n           'min_samples_leaf':randint(1,10),\n           }",
      "outputs": [],
      "cell_type": "code",
      "execution_count": null
    },
    {
      "metadata": {
        "_uuid": "da5b6dcf86db3a7a624a5ab9e342c38a6ef4d5e4",
        "_cell_guid": "5a58f5f8-85f6-4704-9759-2b76cb969e53",
        "collapsed": false,
        "_execution_state": "idle",
        "trusted": false
      },
      "source": "gb_parameters, gb_ht_score = hypertuning_rscv(est, gb_p_dist, 40, X, y)\nprint(gb_parameters)\nprint('Hyper-tuned model score :')\nprint(gb_ht_score*100)",
      "outputs": [],
      "cell_type": "code",
      "execution_count": null
    },
    {
      "metadata": {
        "_uuid": "f1f16fc1ead65343554ad4b3f38e663d71e91ebd",
        "_cell_guid": "d1ea6881-4300-4b9d-9615-8f22e7b13eff",
        "collapsed": false,
        "_execution_state": "idle",
        "trusted": false
      },
      "source": "gb = SklearnHelper(clf=GradientBoostingClassifier, seed=SEED, params=gb_parameters)\ngb_oof_train, gb_oof_test = get_oof(gb, X, y, X_test) \nprint(accuracy_score(gb_oof_train.ravel(), y)*100)",
      "outputs": [],
      "cell_type": "code",
      "execution_count": null
    },
    {
      "metadata": {
        "_uuid": "097ae5c23563856151427d1c03712d0b64f6ef36",
        "_cell_guid": "aa9bad8a-c0a4-4800-a474-bf1600d52cda",
        "collapsed": false,
        "_execution_state": "idle"
      },
      "source": "## 1st-level model 5 : Support Vector Machine",
      "outputs": [],
      "cell_type": "markdown",
      "execution_count": null
    },
    {
      "metadata": {
        "_uuid": "9fed92aaa056abe1e7e3878ab713405dc47d7b26",
        "_cell_guid": "094a1337-3dd4-4dde-9bb0-9544f0ab9970",
        "collapsed": false,
        "_execution_state": "idle",
        "trusted": false
      },
      "source": "est = SVC()\nfrom scipy.stats import norm\nsvc_p_dist={'kernel':['linear','poly','rbf'],\n            'C':norm(loc=0.5, scale=0.15)} # A ABSOLUMENT REVOIR ",
      "outputs": [],
      "cell_type": "code",
      "execution_count": null
    },
    {
      "metadata": {
        "_uuid": "696019d1039726294075e3413bfb264d57ab89f4",
        "_cell_guid": "2f23c44f-ee9a-4780-8e85-f5104ceaa824",
        "collapsed": false,
        "_execution_state": "idle",
        "trusted": false
      },
      "source": "svc_parameters, svc_ht_score = hypertuning_rscv(est, svc_p_dist, 200, X, y)\nprint(svc_parameters)\nprint('Hyper-tuned model score :')\nprint(svc_ht_score*100)",
      "outputs": [],
      "cell_type": "code",
      "execution_count": null
    },
    {
      "metadata": {
        "_uuid": "f6f1309ffdf1eac7dfc675bc19e4175459325b7f",
        "_cell_guid": "611d78a0-4eab-4b46-b707-238b1528b13b",
        "collapsed": false,
        "_execution_state": "idle",
        "trusted": false
      },
      "source": "svc = SklearnHelper(clf=SVC, seed=SEED, params=svc_parameters)\nsvc_oof_train, svc_oof_test = get_oof(svc, X, y, X_test) \nprint(accuracy_score(svc_oof_train.ravel(), y)*100)",
      "outputs": [],
      "cell_type": "code",
      "execution_count": null
    },
    {
      "metadata": {
        "_uuid": "1df9b8f6840a3118af8779b11cfb55b339acc4e3",
        "_cell_guid": "ad3277fe-19db-4492-a6fa-2db71c4eefd1",
        "collapsed": false,
        "_execution_state": "idle"
      },
      "source": "## 2nd-Level Model : ",
      "outputs": [],
      "cell_type": "markdown",
      "execution_count": null
    },
    {
      "metadata": {
        "_uuid": "41bea4f2d4768702944cd027cea7d6f7ff292dcc",
        "_cell_guid": "dbf80375-ec7a-4c56-91b1-ca62ec0c09ce",
        "collapsed": false,
        "_execution_state": "idle",
        "trusted": false
      },
      "source": "Flevel_pred_train = pd.DataFrame({'RF': rf_oof_train.ravel(),\n                                 'ET':et_oof_train.ravel(),\n                                 'AB':ada_oof_train.ravel(),\n                                 'GB':gb_oof_train.ravel(),\n                                 'SVC':svc_oof_train.ravel()})\nFlevel_pred_train.head()",
      "outputs": [],
      "cell_type": "code",
      "execution_count": null
    },
    {
      "metadata": {
        "_uuid": "6952ca0cf9216aca0c37adcf99935522514153d4",
        "_cell_guid": "76ef3bb7-1435-4707-b527-9f3424ec89e1",
        "collapsed": false,
        "_execution_state": "idle"
      },
      "source": "** Concatenation **",
      "outputs": [],
      "cell_type": "markdown",
      "execution_count": null
    },
    {
      "metadata": {
        "_uuid": "b920d0b59e497ef7935de366b02713e835802bd2",
        "_cell_guid": "70368776-da85-4240-9b44-dc4f603dbd50",
        "collapsed": false,
        "_execution_state": "busy",
        "trusted": false
      },
      "source": "x_train = np.concatenate(( et_oof_train, rf_oof_train, ada_oof_train, gb_oof_train, svc_oof_train), axis=1)\nx_test = np.concatenate(( et_oof_test, rf_oof_test, ada_oof_test, gb_oof_test, svc_oof_test), axis=1)",
      "outputs": [],
      "cell_type": "code",
      "execution_count": null
    },
    {
      "metadata": {
        "_uuid": "ceae2235dfb7f8464b8086d570801884646da3b2",
        "_cell_guid": "d5ccf116-122d-46ef-9450-1697767e4562",
        "collapsed": false,
        "_execution_state": "idle",
        "trusted": false
      },
      "source": "gbm = xgb.XGBClassifier(\n    #learning_rate = 0.02,\n n_estimators= 2000,\n max_depth= 4,\n min_child_weight= 2,\n #gamma=1,\n gamma=0.9,                        \n subsample=0.8,\n colsample_bytree=0.8,\n objective= 'binary:logistic',\n nthread= -1,\n scale_pos_weight=1).fit(X, y)\npredictions = gbm.predict(X_test)\n",
      "outputs": [],
      "cell_type": "code",
      "execution_count": null
    },
    {
      "metadata": {
        "_uuid": "8df3453cdc025aa2ad03fba1bdfc1a06d6b580ab",
        "_cell_guid": "4cf60d49-9d6a-4c70-b117-9098d2f04b85",
        "collapsed": false,
        "_execution_state": "idle",
        "trusted": false
      },
      "source": "print(accuracy_score(gbm.predict(X),y)*100)",
      "outputs": [],
      "cell_type": "code",
      "execution_count": null
    },
    {
      "metadata": {
        "_uuid": "70a0096ef83549fa523d2408dcfbc6f7625a56e1",
        "_cell_guid": "6144aada-c964-4689-9e61-e3e8071bbc6c",
        "collapsed": false,
        "_execution_state": "idle",
        "trusted": false
      },
      "source": "PassengerId = data_test['PassengerId']\nStackingSubmission = pd.DataFrame({ 'PassengerId': PassengerId,\n                            'Survived': predictions })\nStackingSubmission.to_csv(\"StackingSubmission.csv\", index=False)",
      "outputs": [],
      "cell_type": "code",
      "execution_count": null
    }
  ]
}