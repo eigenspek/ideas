{
  "nbformat_minor": 0,
  "nbformat": 4,
  "metadata": {
    "kernelspec": {
      "display_name": "Python 3",
      "language": "python",
      "name": "python3"
    },
    "language_info": {
      "name": "python",
      "version": "3.6.1",
      "mimetype": "text/x-python",
      "codemirror_mode": {
        "name": "ipython",
        "version": 3
      },
      "pygments_lexer": "ipython3",
      "nbconvert_exporter": "python",
      "file_extension": ".py"
    }
  },
  "cells": [
    {
      "execution_count": null,
      "cell_type": "markdown",
      "metadata": {
        "collapsed": false,
        "_uuid": "8343bbb40c54ada746c745a0da9f6b33c932109c",
        "_execution_state": "idle",
        "_cell_guid": "32162aa9-39d1-45e5-82b6-2cb46e8785ce"
      },
      "source": "\n[Work in progress ...] \n\n\nPCA in 3 Steps : http://sebastianraschka.com/Articles/2015_pca_in_3_steps.html\n---\nt-SNE : https://medium.com/@luckylwk/visualising-high-dimensional-datasets-using-pca-and-t-sne-in-python-8ef87e7915b\n---\nKMeans Clusters : https://en.wikipedia.org/wiki/K-means_clustering\n---",
      "outputs": []
    },
    {
      "execution_count": 1,
      "cell_type": "code",
      "metadata": {
        "_execution_state": "idle",
        "_uuid": "349b854286b1e0740c601e41b86b09fe70101bc6",
        "_cell_guid": "77ab258b-5c89-465a-87ef-7e610937f932",
        "trusted": false
      },
      "source": "import os\nimport numpy as np\nimport pandas as pd \nimport matplotlib.pyplot as plt\nfrom sklearn.decomposition import PCA\nfrom sklearn.cluster import KMeans\nfrom sklearn.manifold import TSNE\nimport seaborn as sns\n%matplotlib inline\n\nfrom sklearn.svm import SVC\nfrom sklearn.metrics import accuracy_score\nfrom sklearn.cross_validation import KFold;\n\ntraining_data = pd.read_csv('../input/preproc2_train.csv')\ntesting_data = pd.read_csv('../input/preproc2_test.csv')",
      "outputs": []
    },
    {
      "execution_count": 2,
      "cell_type": "code",
      "metadata": {
        "collapsed": false,
        "_uuid": "c654fec60dfa5b9dc80be7ef5f2eec56922c49aa",
        "_execution_state": "idle",
        "_cell_guid": "c0d7bfb3-6ea2-4bfa-9194-90d0a17f828a",
        "trusted": false
      },
      "source": "training_data.head(1)",
      "outputs": []
    },
    {
      "execution_count": 3,
      "cell_type": "code",
      "metadata": {
        "collapsed": false,
        "_uuid": "f6a5abe5b7c256c9b8a5ef949c4cb5fb4e225bbd",
        "_execution_state": "idle",
        "_cell_guid": "87ef14c0-c542-4caf-a473-9261f56b7f49",
        "trusted": false
      },
      "source": "X = training_data.drop(['PassengerId','Survived'], axis=1)\n#X = X.values\ny = training_data['Survived']\nX_t = testing_data.drop(['PassengerId'], axis=1)",
      "outputs": []
    },
    {
      "execution_count": null,
      "cell_type": "markdown",
      "metadata": {
        "collapsed": false,
        "_uuid": "2c43aa72037f851d7b34d0dfe53f49f72481870f",
        "_execution_state": "idle",
        "_cell_guid": "e1b7370d-f93b-411d-9bb8-bd7c933e0594"
      },
      "source": "## Starting Principal Compenent Analysis : \n\n\n----------\n",
      "outputs": []
    },
    {
      "execution_count": null,
      "cell_type": "markdown",
      "metadata": {
        "collapsed": false,
        "_uuid": "8e4fd959c67e4eb8314a7915da83ee9b4055d19f",
        "_execution_state": "idle",
        "_cell_guid": "72733d16-4a48-4192-826e-c28533f69d54"
      },
      "source": "Standardizing Data",
      "outputs": []
    },
    {
      "execution_count": 4,
      "cell_type": "code",
      "metadata": {
        "collapsed": false,
        "_uuid": "c2ec164ab7ea4af5f2c72962311c13518a3db740",
        "_execution_state": "idle",
        "_cell_guid": "9736fde8-a696-42e4-9ec3-130a5af670be",
        "trusted": false
      },
      "source": "from sklearn.preprocessing import StandardScaler\nX_std = StandardScaler().fit_transform(X)\nX_t_std = StandardScaler().fit_transform(X_t)",
      "outputs": []
    },
    {
      "execution_count": 5,
      "cell_type": "code",
      "metadata": {
        "collapsed": false,
        "_uuid": "a3ae0ed6289f351888229db74b308086d5f3a946",
        "_execution_state": "idle",
        "_cell_guid": "dbe45380-8cef-4776-a8da-73a94e55c5c4",
        "trusted": false
      },
      "source": "#testing new visu-tool to have a first feeling on correlations : \nX.plot(y='Fare',x='CabinFloor',kind='hexbin',gridsize=40,sharex=False, colormap='cubehelix', title='Hexbin of Survived and Age',figsize=(4,3))",
      "outputs": []
    },
    {
      "execution_count": null,
      "cell_type": "markdown",
      "metadata": {
        "collapsed": false,
        "_uuid": "b2a31b9b60acc304d855a670de54c617f93e26cf",
        "_execution_state": "idle",
        "_cell_guid": "e625a968-4334-4513-bd71-090ca3dd48cd"
      },
      "source": "Covariance Matrix : ",
      "outputs": []
    },
    {
      "execution_count": 6,
      "cell_type": "code",
      "metadata": {
        "collapsed": false,
        "_uuid": "e3e81e119cd745ae178a7546b5bd663b0396781c",
        "_execution_state": "idle",
        "_cell_guid": "2e3ef441-b5a0-4946-80ca-715a5bcd310b",
        "trusted": false
      },
      "source": "cov_matrix = np.cov(X_std.T)\nprint('Covariance Matrix : %s' % cov_matrix)",
      "outputs": []
    },
    {
      "execution_count": 5,
      "cell_type": "markdown",
      "metadata": {
        "collapsed": false,
        "_uuid": "09e877cc08368de48bfc4093258c956ae501a92e",
        "_execution_state": "idle",
        "_cell_guid": "4e284d0b-4ee7-4245-aec2-740fd8d85964"
      },
      "source": "EigenDecomposition : ",
      "outputs": []
    },
    {
      "execution_count": 7,
      "cell_type": "code",
      "metadata": {
        "collapsed": false,
        "_uuid": "deeac03560b10fcf849e949c0f4d3265abb4e3b6",
        "_execution_state": "idle",
        "_cell_guid": "82b4838f-cc19-4fb1-943d-27aaa5788468",
        "trusted": false
      },
      "source": "e_vals, e_vecs = np.linalg.eig(cov_matrix)\nprint('EigenValues : %s' % e_vals)",
      "outputs": []
    },
    {
      "execution_count": null,
      "cell_type": "markdown",
      "metadata": {
        "collapsed": false,
        "_uuid": "151e79dce52826b2471f79186fdc985c1c7c497b",
        "_execution_state": "idle",
        "_cell_guid": "53c4f81e-d8e3-4b8e-92da-18b78b2300a9"
      },
      "source": "Verifying that all eigenvectors has same unit length 1 : ",
      "outputs": []
    },
    {
      "execution_count": 8,
      "cell_type": "code",
      "metadata": {
        "collapsed": false,
        "_uuid": "991973900992512d6c62fe29b28fc3a0f1292083",
        "_execution_state": "idle",
        "_cell_guid": "885f37bf-f237-414a-8067-362a5ee0eb7e",
        "trusted": false
      },
      "source": "for ev in e_vecs:\n    np.testing.assert_array_almost_equal(1.0, np.linalg.norm(ev))\nprint('Everything ok!')\n\n",
      "outputs": []
    },
    {
      "execution_count": null,
      "cell_type": "markdown",
      "metadata": {
        "collapsed": false,
        "_uuid": "cd52fb9bb2a8f1fdc533026f9d7760ad592445c6",
        "_execution_state": "idle",
        "_cell_guid": "1972909c-1d33-46fa-a4dd-951439381ffa"
      },
      "source": "Sorting Eigen Pairs :",
      "outputs": []
    },
    {
      "execution_count": 9,
      "cell_type": "code",
      "metadata": {
        "collapsed": false,
        "_uuid": "7ddf594aa97997d2408d7c3da83a160401a9c733",
        "_execution_state": "idle",
        "_cell_guid": "8cf55cf2-a5fd-4609-b3aa-02a2a7429589",
        "trusted": false
      },
      "source": "# Make a list of (eigenvalue, eigenvector) tuples\ne_pairs = [(np.abs(e_vals[i]), e_vecs[:,i]) for i in range(len(e_vals))]\n\n# Sort the (eigenvalue, eigenvector) tuples from high to low\ne_pairs.sort(key=lambda x: x[0], reverse=True)\n\n# Visually confirm that the list is correctly sorted by decreasing eigenvalues\nprint('Eigenvalues in descending order:')\nfor i in e_pairs:\n    print(i[0])\n\n",
      "outputs": []
    },
    {
      "execution_count": null,
      "cell_type": "markdown",
      "metadata": {
        "collapsed": false,
        "_uuid": "388c8fc319fdfa22ba7f83a4e0e4a7d606e64007",
        "_execution_state": "idle",
        "_cell_guid": "96185aea-9317-47b1-9b86-dfb38e5c325b"
      },
      "source": "Explained Variance : ",
      "outputs": []
    },
    {
      "execution_count": 10,
      "cell_type": "code",
      "metadata": {
        "collapsed": false,
        "_uuid": "1e0c375a2b1e621c2ec8ba13fac5c60a948b51b3",
        "_execution_state": "idle",
        "_cell_guid": "e685e6fa-cf46-4148-8b04-4c79cf69eb5b",
        "trusted": false
      },
      "source": "tot = sum(e_vals)\nvar_exp = [(i / tot)*100 for i in sorted(e_vals, reverse=True)]\ncum_var_exp = np.cumsum(var_exp)\nwith plt.style.context('seaborn-whitegrid'):\n    plt.figure(figsize=(12, 8))\n\n    plt.bar(range(12), var_exp, alpha=0.5, align='center',\n            label='individual explained variance')\n    plt.step(range(12), cum_var_exp, where='mid',\n             label='cumulative explained variance')\n    plt.ylabel('Explained variance ratio')\n    plt.xlabel('Principal components')\n    plt.legend(loc='best')\n    plt.tight_layout()",
      "outputs": []
    },
    {
      "execution_count": null,
      "cell_type": "markdown",
      "metadata": {
        "collapsed": false,
        "_uuid": "a31647d3f3c8445cad8e4fe994c8803df904d3df",
        "_execution_state": "idle",
        "_cell_guid": "5320da23-2598-4fd2-92f8-38e36a9414a9"
      },
      "source": "Projection Matrix : ",
      "outputs": []
    },
    {
      "execution_count": 11,
      "cell_type": "code",
      "metadata": {
        "collapsed": false,
        "_uuid": "8c9ab59b7206eb92b12ab0814d2b76ffb94a43cd",
        "_execution_state": "idle",
        "_cell_guid": "d4c9f15d-2bfe-4f7b-9606-434d8e348439",
        "trusted": false
      },
      "source": "projection_matrix = np.hstack((e_pairs[0][1].reshape(12,1),\n                             e_pairs[1][1].reshape(12,1),\n                             e_pairs[2][1].reshape(12,1),\n                             e_pairs[3][1].reshape(12,1),\n                             e_pairs[4][1].reshape(12,1),\n                             e_pairs[5][1].reshape(12,1),\n                             e_pairs[6][1].reshape(12,1),\n                             e_pairs[7][1].reshape(12,1)))\nprint(projection_matrix)\n                          ",
      "outputs": []
    },
    {
      "execution_count": null,
      "cell_type": "markdown",
      "metadata": {
        "collapsed": false,
        "_uuid": "1f14f2e409f0f168b79fd3f1697e6370ce89f377",
        "_execution_state": "idle",
        "_cell_guid": "673ec61f-2ec7-47da-b835-10244196fb1b"
      },
      "source": "Projection onto new feature space : ",
      "outputs": []
    },
    {
      "execution_count": 12,
      "cell_type": "code",
      "metadata": {
        "collapsed": false,
        "_uuid": "bf965a8a993eea7fca1358cd9c57488fe31d4139",
        "_execution_state": "idle",
        "_cell_guid": "5fc5aecc-2c30-4874-9b97-caa34470977b",
        "trusted": false
      },
      "source": "X_proj = X_std.dot(projection_matrix)",
      "outputs": []
    },
    {
      "execution_count": 13,
      "cell_type": "code",
      "metadata": {
        "collapsed": false,
        "_uuid": "c4789a072f53284d86c793512b1cc3eaf821d78f",
        "_execution_state": "idle",
        "_cell_guid": "089f7a7c-6c77-4c06-b8a0-6a017c35ebdb",
        "trusted": false
      },
      "source": "plt.figure(figsize = (5,4))\nplt.scatter(X_proj[:,0],X_proj[:,1], c='goldenrod',alpha=0.5)\nplt.ylim(-10,10)\nplt.show()",
      "outputs": []
    },
    {
      "execution_count": null,
      "cell_type": "markdown",
      "metadata": {
        "collapsed": false,
        "_uuid": "5bb771aee56bb91fc746698f70b78bbfe675a88a",
        "_execution_state": "idle",
        "_cell_guid": "2b52cf78-f3d1-4876-940f-f7a7ee1867b9"
      },
      "source": "## Using KMeans Clustering",
      "outputs": []
    },
    {
      "execution_count": 14,
      "cell_type": "code",
      "metadata": {
        "collapsed": false,
        "_uuid": "ac244d9a17931f30c400997701815d18cb7c69ef",
        "_execution_state": "idle",
        "_cell_guid": "ab3d27f2-0d46-45a3-a1c6-950962f7638a",
        "trusted": false
      },
      "source": "# Set a 2 KMeans clustering\nkmeans = KMeans(n_clusters=2)\n# Compute cluster centers and predict cluster indices\nX_clustered = kmeans.fit_predict(X_proj)\n\n# Define our own color map\nLABEL_COLOR_MAP = {0 : 'r',1 : 'b',2 : 'y'}\nlabel_color = [LABEL_COLOR_MAP[l] for l in X_clustered]\n\n# Plot the scatter digram\nplt.figure(figsize = (7,7))\nplt.scatter(X_proj[:,0],X_proj[:,1], c= label_color, alpha=0.5) \nplt.show()\n\n",
      "outputs": []
    },
    {
      "execution_count": 15,
      "cell_type": "code",
      "metadata": {
        "collapsed": false,
        "_uuid": "fdc328bd2a336a9369f34780b40ad372daf6b1b6",
        "_execution_state": "idle",
        "_cell_guid": "d0fcb9dc-02f4-4479-91eb-e729608cbd33",
        "trusted": false
      },
      "source": "df = pd.DataFrame(X_proj)\ndf['X_clustered']= X_clustered\nsns.pairplot(df, hue='X_clustered', palette= 'Dark2', diag_kind='kde',size=1.85)",
      "outputs": []
    },
    {
      "execution_count": 67,
      "cell_type": "markdown",
      "metadata": {
        "collapsed": false,
        "_uuid": "1a359a4eb6fdbb1e123e432bbe50816da1d33276",
        "_execution_state": "idle",
        "_cell_guid": "61b6ed2c-79c2-4874-944e-d5271ad5fc9a"
      },
      "source": "## quick test with an hyper-tuned SVC over Projected X : ",
      "outputs": []
    },
    {
      "execution_count": 16,
      "cell_type": "code",
      "metadata": {
        "collapsed": false,
        "_uuid": "d6556c8645199932c76bcb24c57420d3ce4283ec",
        "_execution_state": "idle",
        "_cell_guid": "39dfcc34-f36c-4545-94d1-052599cc1676",
        "trusted": false
      },
      "source": "ntrain = X_proj.shape[0]\nSEED = 0 # for reproducibility",
      "outputs": []
    },
    {
      "execution_count": 17,
      "cell_type": "code",
      "metadata": {
        "collapsed": false,
        "_uuid": "81fc8008b41bfce98d08d373a668f657094abc7a",
        "_execution_state": "idle",
        "_cell_guid": "417b53b7-5da5-4307-9a49-2b6e4549a50f",
        "trusted": false
      },
      "source": "class SklearnHelper(object):\n    def __init__(self, clf, seed=0, params=None):\n        params['random_state'] = seed\n        self.clf = clf(**params)\n\n    def train(self, x_train, y_train):\n        self.clf.fit(x_train, y_train)\n\n    def predict(self, x):\n        return self.clf.predict(x)\n    \n    def fit(self,x,y):\n        return self.clf.fit(x,y)\n    \n    def feature_importances(self,x,y):\n        print(self.clf.fit(x,y).feature_importances_)",
      "outputs": []
    },
    {
      "execution_count": 18,
      "cell_type": "code",
      "metadata": {
        "collapsed": false,
        "_uuid": "ff67c055d11a7f87945e9030f050e18b02f36245",
        "_execution_state": "idle",
        "_cell_guid": "6c561581-6bc3-459f-83ce-735616717081",
        "trusted": false
      },
      "source": "from scipy.stats import randint\nfrom sklearn.model_selection import RandomizedSearchCV\ndef hypertuning_rscv(est, p_distr, nbr_iter,X,y):\n    rdmsearch = RandomizedSearchCV(est, param_distributions=p_distr,\n                                  n_jobs=-1, n_iter=nbr_iter, cv=9)\n    #CV = Cross-Validation ( here using Stratified KFold CV)\n    start = time()\n    rdmsearch.fit(X,y)\n    print('hyper-tuning time : %d seconds' % (time()-start))\n    start = 0\n    ht_params = rdmsearch.best_params_\n    ht_score = rdmsearch.best_score_\n    return ht_params, ht_score",
      "outputs": []
    },
    {
      "execution_count": 19,
      "cell_type": "code",
      "metadata": {
        "collapsed": false,
        "_uuid": "9052a6033b0c29df6fb61b12792fe32d10110943",
        "_execution_state": "idle",
        "_cell_guid": "5de4efbd-b9b4-4ac0-9b19-ae9d1829bfcb",
        "trusted": false
      },
      "source": "est = SVC()\nfrom time import time\nfrom scipy.stats import norm\nsvc_p_dist={'kernel':['linear','poly','rbf'],\n            'C':norm(loc=0.5, scale=0.15)}\nsvc_parameters, svc_ht_score = hypertuning_rscv(est, svc_p_dist, 200, X_proj, y)\nprint(svc_parameters)\nprint('Hyper-tuned model score :')\nprint(svc_ht_score*100)",
      "outputs": []
    },
    {
      "execution_count": 20,
      "cell_type": "code",
      "metadata": {
        "collapsed": false,
        "_uuid": "4eb9c110e3f9ae5e1cf345a4e00857d4ed32d51d",
        "_execution_state": "idle",
        "_cell_guid": "3b079b8d-3695-489b-acee-9220a09f605c",
        "trusted": false
      },
      "source": "svc = SklearnHelper(clf=SVC, seed=SEED, params=svc_parameters)\nsvc.train(X_proj,y)\nsvc.fit(X_proj,y)\npred = svc.predict(X_proj)\nprint(accuracy_score(pred, y)*100)",
      "outputs": []
    },
    {
      "execution_count": 21,
      "cell_type": "code",
      "metadata": {
        "collapsed": false,
        "_uuid": "5cc0c6270681224ef86045b8b7c15b1427b8374a",
        "_execution_state": "idle",
        "_cell_guid": "956e6cf7-66b4-4869-aa06-e127830d3371",
        "trusted": false
      },
      "source": "test_X_proj = X_t_std.dot(projection_matrix)\ntest_pred = svc.predict(test_X_proj)",
      "outputs": []
    },
    {
      "execution_count": 22,
      "cell_type": "code",
      "metadata": {
        "collapsed": false,
        "_uuid": "4432e8f084e4831170081a3bd2633f044e86f440",
        "_execution_state": "idle",
        "_cell_guid": "bacbd0c1-672c-43ba-bf84-715d24d8a077",
        "trusted": false
      },
      "source": "PassengerId_test = testing_data['PassengerId']\nStackingSubmission = pd.DataFrame({ 'PassengerId': PassengerId_test,\n                            'Survived': test_pred })\nStackingSubmission.to_csv(\"StackingSubmission.csv\", index=False)",
      "outputs": []
    },
    {
      "execution_count": null,
      "cell_type": "markdown",
      "metadata": {
        "collapsed": false,
        "_uuid": "86c57cb67532522469350924658c2ddd149b1da2",
        "_execution_state": "idle",
        "_cell_guid": "dec37b3a-d09a-449a-b024-e15d2f74f711"
      },
      "source": "Exporting data for later use",
      "outputs": []
    },
    {
      "execution_count": 24,
      "cell_type": "code",
      "metadata": {
        "collapsed": false,
        "_uuid": "8053eaecb89875a63a0519fb03234f6a819dd175",
        "_execution_state": "idle",
        "_cell_guid": "37fc469d-9047-4d84-adc6-2174b0905052",
        "trusted": false
      },
      "source": "PassengerId_train = training_data['PassengerId']\noutput_X_proj = pd.DataFrame(X_proj)\noutput_X_proj['Survived']=y\noutput_X_proj['PassengerId']=PassengerId_train\noutput_test_X_proj = pd.DataFrame(test_X_proj)\noutput_test_X_proj['PassengerId'] = PassengerId_test\noutput_X_proj.to_csv('preproc3_train.csv', index = False)\noutput_test_X_proj.to_csv('preproc3_test.csv', index = False)",
      "outputs": []
    },
    {
      "execution_count": null,
      "cell_type": "code",
      "metadata": {
        "collapsed": false,
        "_uuid": "4f7c25287fbdc856c20388da73446aee65b00eca",
        "_execution_state": "idle",
        "_cell_guid": "6e24b2c9-3d6e-4efb-bc22-036aec7d459d",
        "trusted": false
      },
      "source": "",
      "outputs": []
    }
  ]
}